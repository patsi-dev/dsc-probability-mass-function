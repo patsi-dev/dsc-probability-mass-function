{
  "cells": [
    {
      "cell_type": "markdown",
      "metadata": {
        "id": "rq46yIxfh_Cr"
      },
      "source": [
        "# The Probability Mass Function (PMF)\n",
        "\n",
        "## Introduction\n",
        "\n",
        "In this lesson, you'll look at a way to represent discrete distributions - the probability mass function (PMF), which maps from each value to its probability.\n",
        "\n",
        "\n",
        "## Objectives\n",
        "\n",
        "You will be able to:\n",
        "\n",
        "* Describe how probability is represented in the probability mass function\n",
        "* Visualize the PMF and describe its relationship with histograms\n",
        "\n",
        "## What is a Probability Mass Function (PMF)?\n",
        "\n",
        "A probability mass function (PMF), sometimes referred to as a frequency function, is a function that associates probabilities with discrete random variables. You already learned about this in the context of coin flips and dice rolls. The **discrete** part in discrete distributions means that there is a **known number of possible outcomes**.\n",
        "\n",
        "**Based on your experience of rolling a dice**, you can develop a PMF showing the probabilities of each possible value between 1 and 6 occurring.\n",
        "\n",
        "\n",
        "More formally:\n",
        "\n",
        "> The Probability Mass Function (PMF) maps a probability ($P$) of observing an outcome $x$ of our discrete random variable $X$ in a way that this function takes the form $f(x) = P(X = x)$.\n",
        "\n",
        "$X$ being a discrete random variable, we can say that the range $R_X$ is a countable set of all possible values of X.\n",
        "They can be represented as a set as follows:\n",
        "\n",
        "$R_x = \\{ x_1,x_2,x_3,\\ldots \\}$\n",
        "\n",
        "where $x_1,x_2,x_3,\\ldots$ are the possible values of $x$.\n",
        "\n",
        "\n",
        "Say we are interested in quantifying the probability that $X$ is equal to some given quantity $x_3$. That is, we want to know $P(x_3)$. For example, in the case of our dice, we might be interested in the probability of getting a 3,  which, in this case, would be $P(3) = \\dfrac{1}{6}$\n",
        "\n",
        "Think of the event $A$, such that  $A = \\{ X = x_k \\}$ is defined as the set of outcomes $s$ in the sample space $S$ for which the corresponding value of $X$ is equal to $x_k$.  This can be written as:\n",
        "\n",
        "$$\\large A = \\{ s \\in S \\mid X(s) = x_k \\}$$\n",
        "\n",
        "(Remember that $s \\in S$ is mathematical notation for \"$s$ belongs to $S$\" or \"$s$ is in $S$\").\n",
        "\n",
        "## PMF Intuition\n",
        "\n",
        "Let's work through a brief example calculating the probability mass function for a discrete random variable!\n",
        "\n",
        "A **probability** is a number in the range [0,1] that is calculated as the *frequency expressed as a fraction of the sample size.* This means that, in order to convert any random variable's frequency into a probability, we need to perform the following steps:\n",
        "\n",
        "* Get the frequency of every possible value in the dataset\n",
        "* Divide the frequency of each value by the total number of values (length of dataset)\n",
        "* Get the probability for each value\n",
        "\n",
        "Let's show this using a simple toy example:"
      ]
    },
    {
      "cell_type": "code",
      "execution_count": 1,
      "metadata": {
        "id": "ZXqW3QPkh_Cv",
        "outputId": "9a5c755b-a2e2-4654-9c53-0db510d4da4e",
        "colab": {
          "base_uri": "https://localhost:8080/"
        }
      },
      "outputs": [
        {
          "output_type": "stream",
          "name": "stdout",
          "text": [
            "Counter({1: 4, 2: 4, 3: 2, 5: 2, 4: 1})\n",
            "13\n"
          ]
        }
      ],
      "source": [
        "# Count the frequency of values in a given dataset\n",
        "import collections\n",
        "x = [1,1,1,1,2,2,2,2,3,3,4,5,5]\n",
        "counter = collections.Counter(x)\n",
        "print(counter)\n",
        "\n",
        "print(len(x))"
      ]
    },
    {
      "cell_type": "markdown",
      "metadata": {
        "id": "RD9oIUXxh_Cw"
      },
      "source": [
        "You'll notice that this returned a dictionary, with keys being the possible outcomes, and values of these keys set to the frequency of items. You can calculate the PMF using step 2 above.\n",
        "\n",
        "_Note: You can read more about the `collections` library [here](https://docs.python.org/3.6/library/collections.html)._"
      ]
    },
    {
      "cell_type": "code",
      "execution_count": 2,
      "metadata": {
        "id": "-hMud2d5h_Cx",
        "outputId": "d785a990-d450-4ea2-b33a-bc430827fe6e",
        "colab": {
          "base_uri": "https://localhost:8080/"
        }
      },
      "outputs": [
        {
          "output_type": "stream",
          "name": "stdout",
          "text": [
            "dict_keys([1, 2, 3, 4, 5]) [0.31, 0.31, 0.15, 0.08, 0.15]\n"
          ]
        }
      ],
      "source": [
        "# Convert frequency to probability - divide each frequency value by total number of values\n",
        "pmf = []\n",
        "for key,val in counter.items():\n",
        "    pmf.append(round(val/len(x), 2))\n",
        "\n",
        "print(counter.keys(), pmf)"
      ]
    },
    {
      "cell_type": "markdown",
      "metadata": {
        "id": "g8sjQfV8h_Cy"
      },
      "source": [
        "You notice that the PMF is normalized so the total probability is 1."
      ]
    },
    {
      "cell_type": "code",
      "execution_count": 3,
      "metadata": {
        "id": "vdoD6Y4_h_Cy",
        "outputId": "37f61b66-78cb-4519-9ee5-6599020d662a",
        "colab": {
          "base_uri": "https://localhost:8080/"
        }
      },
      "outputs": [
        {
          "output_type": "execute_result",
          "data": {
            "text/plain": [
              "np.float64(1.0)"
            ]
          },
          "metadata": {},
          "execution_count": 3
        }
      ],
      "source": [
        "import numpy as np\n",
        "\n",
        "np.array(pmf).sum()"
      ]
    },
    {
      "cell_type": "markdown",
      "metadata": {
        "id": "N7_OQAwZh_Cz"
      },
      "source": [
        "If we want, we can write this as an actual Python function, which is \"trained\" using the global variables `x` and `counter` we have already declared."
      ]
    },
    {
      "cell_type": "code",
      "execution_count": 4,
      "metadata": {
        "id": "PtmBOxtch_C0",
        "outputId": "4d4f3486-d0ef-4161-ca53-cc2215165920",
        "colab": {
          "base_uri": "https://localhost:8080/"
        }
      },
      "outputs": [
        {
          "output_type": "stream",
          "name": "stdout",
          "text": [
            "p(1) = 0.3076923076923077\n",
            "p(3) = 0.15384615384615385\n"
          ]
        }
      ],
      "source": [
        "def p(x_i):\n",
        "    frequency = counter[x_i]\n",
        "    total_number = len(x)\n",
        "    return frequency / total_number\n",
        "\n",
        "print(\"p(1) =\", p(1))\n",
        "print(\"p(3) =\", p(3))"
      ]
    },
    {
      "cell_type": "markdown",
      "metadata": {
        "id": "XV6mEQnlh_C1"
      },
      "source": [
        "## Visualizing a PMF\n",
        "\n",
        "You can inspect the probability mass function of a discrete variable by visualizing the distribution using `matplotlib`. You can use a simple bar graph to show the probability mass function using the probabilities calculated above.\n",
        "\n",
        "Here's the code:"
      ]
    },
    {
      "cell_type": "code",
      "execution_count": 5,
      "metadata": {
        "id": "AKO0G5mah_C2",
        "outputId": "d5d6ce74-4165-4825-a572-1b1e346340dd",
        "colab": {
          "base_uri": "https://localhost:8080/",
          "height": 477
        }
      },
      "outputs": [
        {
          "output_type": "display_data",
          "data": {
            "text/plain": [
              "<Figure size 640x480 with 1 Axes>"
            ],
            "image/png": "[encoded data removed]"
          },
          "metadata": {}
        }
      ],
      "source": [
        "import matplotlib.pyplot as plt\n",
        "%matplotlib inline\n",
        "plt.style.use('ggplot')\n",
        "\n",
        "outcomes = counter.keys()\n",
        "\n",
        "plt.bar(outcomes, [p(x_i) for x_i in outcomes]);\n",
        "plt.title(\"A Probability Mass Function\")\n",
        "plt.xlabel(\"Outcomes\")\n",
        "plt.ylabel(\"Probabilities of Outcomes\");"
      ]
    },
    {
      "cell_type": "markdown",
      "metadata": {
        "id": "jpTPyM7Ah_C3"
      },
      "source": [
        "This looks pretty familiar. It's essentially a normalized histogram! The PMF has already calculated all of the x values and heights for us, so we are using a bar graph to show it.\n",
        "\n",
        "If we weren't using a PMF, we could use a histogram to bin the data for us and produce a similar plot. You can use `plt.hist(x)` to obtain the histogram."
      ]
    },
    {
      "cell_type": "code",
      "execution_count": 7,
      "metadata": {
        "id": "TnLiEBgPh_C3",
        "outputId": "4e875b21-781b-4f29-e607-207f0daee6da",
        "colab": {
          "base_uri": "https://localhost:8080/",
          "height": 477
        }
      },
      "outputs": [
        {
          "output_type": "display_data",
          "data": {
            "text/plain": [
              "<Figure size 640x480 with 1 Axes>"
            ],
            "image/png": "[encoded data removed]"
          },
          "metadata": {}
        }
      ],
      "source": [
        "plt.hist(x);\n",
        "plt.title(\"Histogram of Outcomes\")\n",
        "plt.xlabel(\"Bins of Outcomes\")\n",
        "plt.ylabel(\"Frequencies of Outcomes\");"
      ]
    },
    {
      "cell_type": "markdown",
      "metadata": {
        "id": "H0g_sCY3h_C4"
      },
      "source": [
        "If you look carefully, there are two differences between this histogram and the graph of the PMF above:\n",
        "\n",
        "1. In the PMF graph, the y-axis represents the probabilities, where as in the histogram it represents the frequencies (raw counts). Those histogram values are the same as `counter.values()`.\n",
        "2. In the histogram, the domain (set of input/x values) has been translated into bins along a continuous x, rather than a series of categorical labels (as in the bar graph). This is why the numbers along the bottom don't line up as neatly with the bars.\n",
        "\n",
        "We can tweak the histogram somewhat so that it is closer to the PMF bar graph. First, we can specify `density=True` so that the y-axis will show probabilities. Then we can also customize some of the x-axis scaling and styling."
      ]
    },
    {
      "cell_type": "code",
      "execution_count": null,
      "metadata": {
        "id": "jhny1xoVh_C5",
        "outputId": "7ea437fd-88eb-4070-96ea-c8d737a610f8"
      },
      "outputs": [
        {
          "data": {
            "image/png": "[encoded data removed]",
            "text/plain": [
              "<Figure size 640x480 with 1 Axes>"
            ]
          },
          "metadata": {},
          "output_type": "display_data"
        }
      ],
      "source": [
        "xtick_locations = range(1,6)\n",
        "bins = np.arange(6)+0.5\n",
        "plt.hist(x, bins=bins,  rwidth=0.25, density=True)\n",
        "plt.xticks(ticks=xtick_locations)\n",
        "plt.xlabel('Bins of Outcomes')\n",
        "plt.ylabel('Probabilities of Bins of Outcomes')\n",
        "plt.title(\"Adjusted Histogram with `density=True`\");"
      ]
    },
    {
      "cell_type": "markdown",
      "metadata": {
        "id": "L6UL0_1Fh_C5"
      },
      "source": [
        "### Why Compare PMF Bar Graph vs. Histogram?\n",
        "\n",
        "The idea here is to help you understand the key distinctions between a PMF bar graph and a typical histogram for showing the probabilities of categorical data.\n",
        "\n",
        "Because a PMF is designed to work with discrete (categorical) data in the first place, no binning, counting, or normalization is needed to display the probability of each possible x value.\n",
        "\n",
        "Histograms are typically used with continuous data to show frequencies, although they can be adapted to show similar information to PMFs. The most important thing to customize is the `density=True` argument, which tells the histogram to normalize the values and display probabilities rather than frequencies."
      ]
    },
    {
      "cell_type": "markdown",
      "metadata": {
        "id": "4g4WlBgCh_C6"
      },
      "source": [
        "## Measures of Central Tendency and Spread\n",
        "\n",
        "When talking about distributions, there will generally be two descriptive quantities you're interested in: the central tendency and the spread. Here we'll specifically focus on the mean (also known as the **expected value**) and the **variance**.\n",
        "\n",
        "### Expected Value\n",
        "\n",
        "For discrete distributions, the expected value of your discrete random value X is given by:\n",
        "\n",
        "$$\\large E(X) = \\mu = \\sum_i p(x_i)x_i$$\n",
        "\n",
        "This is the same familiar algorithm for finding the mean (add everything up and divide by the count), just done in a different order and written a little differently.\n",
        "\n",
        "Take the very simple example of the dataset `[2, 5, 5]`. The way you usually might find the mean would be to calculate the sum $2 + 5 + 5$ and divide by the count $3$ to get $\\frac{12}{3}$, i.e. $4$.\n",
        "\n",
        "Using this formula instead, we calculate the probability of each number first:\n",
        "\n",
        "* $p(2)$ = 1 (the number of times 2 appears in the dataset) divided by 3 (the total number of values), i.e. $\\frac{1}{3}$\n",
        "* $p(5)$ = 2 (the number of times 5 appears in the dataset) divided by 3 (the total number of values), i.e. $\\frac{2}{3}$\n",
        "\n",
        "Then multiply each by the value:\n",
        "\n",
        "* $p(2) \\cdot 2$ = $\\frac{1}{3} \\cdot 2$ = $\\frac{2}{3}$\n",
        "* $p(5) \\cdot 5$ = $\\frac{2}{3} \\cdot 5$ = $\\frac{10}{3}$\n",
        "\n",
        "Then sum them ($\\Sigma$ means we take the sum):\n",
        "\n",
        "$\\frac{2}{3} + \\frac{10}{3} = \\frac{12}{3} = 4$\n",
        "\n",
        "The same value as before!\n",
        "\n",
        "Note that with discrete distributions, it is possible for the expected or mean value to be an impossible/invalid value, e.g. a fair coin flip where heads is $1$ and tails is $0$ would have an expected value of $0.5$, even though it is impossible to flip a coin and get $0.5$.\n",
        "\n",
        "### Variance\n",
        "\n",
        "The variance is given by:\n",
        "\n",
        "$$\\large E((X-\\mu)^2) = \\sigma^2 = \\sum_i p(x_i)(x_i-\\mu)^2$$\n",
        "\n",
        "In other words, the variance is the sum of the probabilities of each $x_i$ times the squared difference between that $x_i$ and the expected value. Similar to the mean above, this is just a minor reordering of the variance formulas.\n",
        "\n",
        "(Also, recall that standard deviation $\\sigma$ is the square root of the variance $\\sigma^2$.)\n",
        "\n",
        "### A Longer Example\n",
        "\n",
        "Let's return to using the example collection from earlier. Note that this is the original dataset:"
      ]
    },
    {
      "cell_type": "markdown",
      "metadata": {
        "id": "YG8Okngwh_C7"
      },
      "source": [
        "These are the possible outcomes:"
      ]
    },
    {
      "cell_type": "code",
      "execution_count": 8,
      "metadata": {
        "id": "uL1SwMsFh_C8",
        "outputId": "20baa42e-1360-47c6-9689-511769bc59da",
        "colab": {
          "base_uri": "https://localhost:8080/"
        }
      },
      "outputs": [
        {
          "output_type": "execute_result",
          "data": {
            "text/plain": [
              "dict_keys([1, 2, 3, 4, 5])"
            ]
          },
          "metadata": {},
          "execution_count": 8
        }
      ],
      "source": [
        "outcomes"
      ]
    },
    {
      "cell_type": "markdown",
      "metadata": {
        "id": "QrF51XEYh_C8"
      },
      "source": [
        "And we have a function `p` that will return the probability of a given $x_i$:"
      ]
    },
    {
      "cell_type": "code",
      "execution_count": 9,
      "metadata": {
        "id": "1qZYw6fZh_C9",
        "outputId": "64aa2477-43ee-4183-c889-d4b2049462c3",
        "colab": {
          "base_uri": "https://localhost:8080/"
        }
      },
      "outputs": [
        {
          "output_type": "execute_result",
          "data": {
            "text/plain": [
              "0.07692307692307693"
            ]
          },
          "metadata": {},
          "execution_count": 9
        }
      ],
      "source": [
        "p(4)"
      ]
    },
    {
      "cell_type": "markdown",
      "metadata": {
        "id": "FzH9K3VCh_C9"
      },
      "source": [
        "We can calculate the expected value $\\mu$ like this:"
      ]
    },
    {
      "cell_type": "code",
      "execution_count": 10,
      "metadata": {
        "id": "4zj7gMF_h_C-",
        "outputId": "aceacc9d-24cb-442e-a6b7-c513138f9d94",
        "colab": {
          "base_uri": "https://localhost:8080/"
        }
      },
      "outputs": [
        {
          "output_type": "execute_result",
          "data": {
            "text/plain": [
              "2.4615384615384617"
            ]
          },
          "metadata": {},
          "execution_count": 10
        }
      ],
      "source": [
        "mu = sum([p(x_i)*x_i for x_i in outcomes])\n",
        "mu"
      ]
    },
    {
      "cell_type": "markdown",
      "metadata": {
        "id": "jJqQ_aMKh_C-"
      },
      "source": [
        "And we can calculate the variance $\\sigma^2$ like this:"
      ]
    },
    {
      "cell_type": "code",
      "execution_count": null,
      "metadata": {
        "id": "5qqQEEFzh_C-",
        "outputId": "7fbfb9ad-b2d5-47dc-b33b-c4977960b169"
      },
      "outputs": [
        {
          "data": {
            "text/plain": [
              "1.940828402366864"
            ]
          },
          "execution_count": 12,
          "metadata": {},
          "output_type": "execute_result"
        }
      ],
      "source": [
        "variance = sum([p(x_i)*((x_i - mu)**2) for x_i in outcomes])\n",
        "variance"
      ]
    },
    {
      "cell_type": "markdown",
      "metadata": {
        "id": "gLmK1Kqih_C_"
      },
      "source": [
        "The following table shows all of the intermediate steps being calculated here:\n",
        "\n",
        "| Formula     | Name     | `i=0`  | `i=1`  | `i=2`  | `i=3`  | `i=4`  | $\\sum$ |\n",
        "| ----------- | -------- | ------ | ------ | ------ | ------ | ------ | ------ |\n",
        "|<img width=100/>|<img width=150/>|<img width=80/>|<img width=80/>|<img width=80/>|<img width=80/>|<img width=80/>|<img width=100/>|\n",
        "| $x_i$       | outcome   | 1      | 2      | 3      | 4      | 5      |        |\n",
        "| $p(x_i)$    | probability | $0.31$ | $0.31$ | $0.15$ | $0.08$ | $0.15$ | $1$ (i.e. $P(\\Omega)$)\n",
        "| $p(x_i)x_i$ |  | $0.31$  | $0.62$  | $0.46$ | $0.31$  |$0.77$   |  $2.46$ (i.e. $\\mu$)  |\n",
        "| $(x_i-\\mu)^2$| squared difference from the mean | $2.14$ | $0.213$ | $0.300$ | $2.37$ | $6.44$ |\n",
        "| $ p(x_i)(x_i-\\mu)^2$|  | $0.657$ | $0.0655$ | $0.0446$ |$0.182$ | $0.991$ | $1.94$ (i.e. $\\sigma^2$) |\n",
        "\n"
      ]
    },
    {
      "cell_type": "markdown",
      "metadata": {
        "id": "_l4FftN7h_DA"
      },
      "source": [
        "As you can see from the far right column, the expected value is equal to 2.46 and the variance is equal to 1.94. This matches up with our previously-computed values.\n",
        "\n",
        "Even though for this example these values may not be super informative, you'll learn how these two descriptive quantities are often important parameters in many distributions to come!\n",
        "\n",
        "**NOTE**: The PMF describes a probability distribution. In some literature, the PMF is simply referred to *as* the probability distribution, rather than something that describes it. The phrase *distribution function* is usually reserved exclusively for the cumulative distribution function CDF, which we will cover in a future lesson.\n",
        "\n",
        "## Summary\n",
        "\n",
        "In this lesson, you learned more about the probability mass function and how to get a list of probabilities for each possible value in a discrete random variable by looking at their frequencies. You also learned about the concept of expected value and variance for discrete distributions. Moving on, you'll learn about probability density functions for continuous variables."
      ]
    }
  ],
  "metadata": {
    "kernelspec": {
      "display_name": "Python (learn-env)",
      "language": "python",
      "name": "learn-env"
    },
    "language_info": {
      "codemirror_mode": {
        "name": "ipython",
        "version": 3
      },
      "file_extension": ".py",
      "mimetype": "text/x-python",
      "name": "python",
      "nbconvert_exporter": "python",
      "pygments_lexer": "ipython3",
      "version": "3.9.16"
    },
    "toc": {
      "base_numbering": 1,
      "nav_menu": {},
      "number_sections": true,
      "sideBar": true,
      "skip_h1_title": false,
      "title_cell": "Table of Contents",
      "title_sidebar": "Contents",
      "toc_cell": false,
      "toc_position": {},
      "toc_section_display": true,
      "toc_window_display": false
    },
    "colab": {
      "provenance": []
    }
  },
  "nbformat": 4,
  "nbformat_minor": 0
}